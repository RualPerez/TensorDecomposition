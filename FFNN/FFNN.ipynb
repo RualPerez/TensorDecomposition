{
 "cells": [
  {
   "cell_type": "code",
   "execution_count": 14,
   "metadata": {},
   "outputs": [],
   "source": [
    "import torch\n",
    "from torch.autograd import Variable\n",
    "from torch.nn.parameter import Parameter\n",
    "import torch.nn as nn\n",
    "import torch.nn.functional as F\n",
    "import torch.optim as optim\n",
    "import torch.nn.init as init\n",
    "\n",
    "%matplotlib inline\n",
    "import matplotlib\n",
    "import numpy as np\n",
    "import matplotlib.pyplot as plt"
   ]
  },
  {
   "cell_type": "code",
   "execution_count": 15,
   "metadata": {},
   "outputs": [],
   "source": [
    "num_classes = 5\n",
    "n_features = 6 "
   ]
  },
  {
   "cell_type": "code",
   "execution_count": 16,
   "metadata": {},
   "outputs": [],
   "source": [
    "from numpy import loadtxt\n",
    "\n",
    "x_test = loadtxt('problem/X_test_classification.csv',delimiter=',')\n",
    "targets_test = loadtxt('problem/y_test_classification.csv',delimiter=',')\n",
    "x_valid = loadtxt('problem/X_val_classification.csv',delimiter=',')\n",
    "targets_valid = loadtxt('problem/y_val_classification.csv',delimiter=',')\n",
    "x_train = loadtxt('problem/X_train_classification.csv',delimiter=',')\n",
    "targets_train = loadtxt('problem/y_train_classification.csv',delimiter=',')"
   ]
  },
  {
   "cell_type": "code",
   "execution_count": 19,
   "metadata": {},
   "outputs": [],
   "source": [
    "# Load functions\n",
    "import torch\n",
    "from torch.autograd import Variable\n",
    "import torch.nn as nn\n",
    "import torch.optim as optim\n",
    "from torch.nn import Linear, GRU, Conv2d, Dropout, MaxPool2d, BatchNorm1d, Dropout2d, LSTM\n",
    "from torch.nn.functional import relu, elu, relu6, sigmoid, tanh, softmax"
   ]
  },
  {
   "cell_type": "code",
   "execution_count": 20,
   "metadata": {},
   "outputs": [],
   "source": [
    "from torch.nn.functional import relu\n",
    "\n",
    "#Hyperparameters\n",
    "out1, out2, out3 = 64, 64, 64\n",
    "num_features = x_train.shape[1]\n",
    "\n",
    "# define network\n",
    "class Net(nn.Module):\n",
    "\n",
    "    def __init__(self, num_features, num_output):\n",
    "        super(Net, self).__init__()  \n",
    "        \n",
    "        self.l1 = Linear(in_features = num_features,\n",
    "                            out_features = out1)\n",
    "        \n",
    "        self.l2 = Linear(in_features = out1,\n",
    "                            out_features = out2)\n",
    "        \n",
    "        self.l3 = Linear(in_features = out2,\n",
    "                            out_features = out3)\n",
    "        \n",
    "        self.l4 = Linear(in_features = out3,\n",
    "                            out_features = num_classes)\n",
    "        \n",
    "        \n",
    "        self.dropout = Dropout(p=0.1)\n",
    "        \n",
    "        self.bnorm1 = nn.BatchNorm1d(out1)\n",
    "        self.bnorm2 = nn.BatchNorm1d(out2)\n",
    "        self.bnorm3 = nn.BatchNorm1d(out3)\n",
    "        self.bnorm4 = nn.BatchNorm1d(num_classes)\n",
    "     \n",
    "    def get_n_params(self):\n",
    "        pp=0\n",
    "        for p in list(self.parameters()):\n",
    "            nn=1\n",
    "            for s in list(p.size()):\n",
    "                nn = nn*s\n",
    "            pp += nn\n",
    "        return pp\n",
    "\n",
    "    \n",
    "    def forward(self, x):        \n",
    "        x = self.dropout(relu(self.bnorm1(self.l1(x) )))\n",
    "        x = self.dropout(relu(self.bnorm2(self.l2(x) )))\n",
    "        x = self.dropout(relu(self.bnorm3(self.l3(x) )))\n",
    "        x = self.dropout(relu(self.bnorm4(self.l4(x) )))\n",
    "        \n",
    "        return x\n",
    "\n",
    "\n",
    "net = Net(num_features, num_classes)"
   ]
  },
  {
   "cell_type": "code",
   "execution_count": 21,
   "metadata": {},
   "outputs": [
    {
     "data": {
      "text/plain": [
       "9487"
      ]
     },
     "execution_count": 21,
     "metadata": {},
     "output_type": "execute_result"
    }
   ],
   "source": [
    "net.get_n_params()"
   ]
  },
  {
   "cell_type": "code",
   "execution_count": 22,
   "metadata": {},
   "outputs": [],
   "source": [
    "optimizer = optim.Adam(net.parameters())\n",
    "criterion = nn.CrossEntropyLoss()"
   ]
  },
  {
   "cell_type": "markdown",
   "metadata": {},
   "source": [
    "# Build the training loop"
   ]
  },
  {
   "cell_type": "code",
   "execution_count": 23,
   "metadata": {},
   "outputs": [
    {
     "name": "stdout",
     "output_type": "stream",
     "text": [
      "Epoch  1 : Train Loss 1.164362 , Train acc 0.897047, Valid acc 0.889231\n",
      "Epoch  2 : Train Loss 0.935743 , Train acc 0.898121, Valid acc 0.888462\n",
      "Epoch  3 : Train Loss 0.871264 , Train acc 0.898456, Valid acc 0.886154\n",
      "Epoch  4 : Train Loss 0.811247 , Train acc 0.897517, Valid acc 0.887308\n",
      "Epoch  5 : Train Loss 0.797983 , Train acc 0.897852, Valid acc 0.886923\n",
      "Epoch  6 : Train Loss 0.777743 , Train acc 0.899463, Valid acc 0.886538\n",
      "Epoch  7 : Train Loss 0.765236 , Train acc 0.900000, Valid acc 0.886154\n",
      "Epoch  8 : Train Loss 0.765864 , Train acc 0.899128, Valid acc 0.885000\n",
      "Epoch  9 : Train Loss 0.751093 , Train acc 0.898054, Valid acc 0.883462\n",
      "Epoch 10 : Train Loss 0.740255 , Train acc 0.899530, Valid acc 0.886154\n"
     ]
    },
    {
     "data": {
      "text/plain": [
       "(Text(0.5, 0, 'Updates'), Text(0, 0.5, 'Acc'))"
      ]
     },
     "execution_count": 23,
     "metadata": {},
     "output_type": "execute_result"
    },
    {
     "data": {
      "image/png": "[encoded data removed]",
      "text/plain": [
       "<Figure size 432x288 with 1 Axes>"
      ]
     },
     "metadata": {
      "needs_background": "light"
     },
     "output_type": "display_data"
    }
   ],
   "source": [
    "# we could have done this ourselves,\n",
    "# but we should be aware of sklearn and it's tools\n",
    "from sklearn.metrics import accuracy_score\n",
    "\n",
    "# setting hyperparameters and gettings epoch sizes\n",
    "batch_size = 100\n",
    "num_epochs = 10\n",
    "num_samples_train = x_train.shape[0]\n",
    "num_batches_train = num_samples_train // batch_size\n",
    "num_samples_valid = x_valid.shape[0]\n",
    "num_batches_valid = num_samples_valid // batch_size\n",
    "\n",
    "# setting up lists for handling loss/accuracy\n",
    "train_acc, train_loss = [], []\n",
    "valid_acc, valid_loss = [], []\n",
    "test_acc, test_loss = [], []\n",
    "cur_loss = 0\n",
    "losses = []\n",
    "\n",
    "get_slice = lambda i, size: range(i * size, (i + 1) * size)\n",
    "\n",
    "for epoch in range(num_epochs):\n",
    "    # Forward -> Backprob -> Update params\n",
    "    ## Train\n",
    "    cur_loss = 0\n",
    "    net.train()\n",
    "    for i in range(num_batches_train):\n",
    "        slce = get_slice(i, batch_size)\n",
    "        x_batch = Variable(torch.from_numpy(x_train[slce]))\n",
    "        output = net(x_batch.float())\n",
    "        \n",
    "        # compute gradients given loss\n",
    "        target_batch = Variable(torch.from_numpy(targets_train[slce]).long())\n",
    "        batch_loss = criterion(output, target_batch)\n",
    "        optimizer.zero_grad()\n",
    "        batch_loss.backward()\n",
    "        optimizer.step()\n",
    "        \n",
    "        cur_loss += batch_loss   \n",
    "    losses.append(cur_loss / batch_size)\n",
    "\n",
    "    net.eval()\n",
    "    ### Evaluate training\n",
    "    train_preds, train_targs = [], []\n",
    "    for i in range(num_batches_train):\n",
    "        slce = get_slice(i, batch_size)\n",
    "        x_batch = Variable(torch.from_numpy(x_train[slce]))\n",
    "        \n",
    "        output = net(x_batch.float())\n",
    "        preds = torch.max(output, 1)[1]\n",
    "        \n",
    "        train_targs += list(targets_train[slce])\n",
    "        train_preds += list(preds.data.numpy())\n",
    "    \n",
    "    ### Evaluate validation\n",
    "    val_preds, val_targs = [], []\n",
    "    for i in range(num_batches_valid):\n",
    "        slce = get_slice(i, batch_size)\n",
    "        x_batch = Variable(torch.from_numpy(x_valid[slce]))\n",
    "        \n",
    "        output = net(x_batch.float())\n",
    "        preds = torch.max(output, 1)[1]\n",
    "        val_preds += list(preds.data.numpy())\n",
    "        val_targs += list(targets_valid[slce])\n",
    "\n",
    "    train_acc_cur = accuracy_score(train_targs, train_preds)\n",
    "    valid_acc_cur = accuracy_score(val_targs, val_preds)\n",
    "    \n",
    "    train_acc.append(train_acc_cur)\n",
    "    valid_acc.append(valid_acc_cur)\n",
    "    \n",
    "    if epoch % 1 == 0:\n",
    "        print(\"Epoch %2i : Train Loss %f , Train acc %f, Valid acc %f\" % (\n",
    "                epoch+1, losses[-1], train_acc_cur, valid_acc_cur))\n",
    "\n",
    "epoch = np.arange(len(train_acc))\n",
    "plt.figure()\n",
    "plt.plot(epoch, train_acc, 'r', epoch, valid_acc, 'b')\n",
    "plt.legend(['Train Accucary','Validation Accuracy'])\n",
    "plt.xlabel('Updates'), plt.ylabel('Acc')"
   ]
  },
  {
   "cell_type": "code",
   "execution_count": 24,
   "metadata": {},
   "outputs": [],
   "source": [
    "x_valid = np.concatenate((x_valid, x_test), 0)\n",
    "targets_valid = np.concatenate((targets_valid, targets_test), 0)"
   ]
  },
  {
   "cell_type": "code",
   "execution_count": 29,
   "metadata": {},
   "outputs": [
    {
     "data": {
      "text/plain": [
       "0.8851256983240223"
      ]
     },
     "execution_count": 29,
     "metadata": {},
     "output_type": "execute_result"
    }
   ],
   "source": [
    "num_samples_valid = x_valid.shape[0]\n",
    "num_batches_valid = num_samples_valid // batch_size \n",
    "\n",
    "### Evaluate validation\n",
    "val_preds, val_targs = [], []\n",
    "for i in range(1):\n",
    "    slce = get_slice(i, batch_size)\n",
    "    x_batch = Variable(torch.from_numpy(x_valid))\n",
    "\n",
    "    output = net(x_batch.float())\n",
    "    preds = torch.max(output, 1)[1]\n",
    "    val_preds += list(preds.data.numpy())\n",
    "    val_targs += list(targets_valid)\n",
    "\n",
    "valid_acc_cur = accuracy_score(val_targs, val_preds)\n",
    "valid_acc_cur"
   ]
  },
  {
   "cell_type": "code",
   "execution_count": 32,
   "metadata": {},
   "outputs": [],
   "source": [
    "np.savetxt('val_preds_FFN.csv', val_preds, delimiter=',')"
   ]
  }
 ],
 "metadata": {
  "kernelspec": {
   "display_name": "Python 3",
   "language": "python",
   "name": "python3"
  },
  "language_info": {
   "codemirror_mode": {
    "name": "ipython",
    "version": 3
   },
   "file_extension": ".py",
   "mimetype": "text/x-python",
   "name": "python",
   "nbconvert_exporter": "python",
   "pygments_lexer": "ipython3",
   "version": "3.6.2"
  }
 },
 "nbformat": 4,
 "nbformat_minor": 1
}
